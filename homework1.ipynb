{
 "cells": [
  {
   "cell_type": "markdown",
   "metadata": {
    "slideshow": {
     "slide_type": "slide"
    }
   },
   "source": [
    "# Homework 1 - Berkeley STAT 157\n",
    "\n",
    "Handout 1/22/2017, due 1/29/2017 by 4pm in Git by committing to your repository. Please ensure that you add the TA Git account to your repository.\n",
    "\n",
    "1. Write all code in the notebook.\n",
    "1. Write all text in the notebook. You can use MathJax to insert math or generic Markdown to insert figures (it's unlikely you'll need the latter). \n",
    "1. **Execute** the notebook and **save** the results.\n",
    "1. To be safe, print the notebook as PDF and add it to the repository, too. Your repository should contain two files: ``homework1.ipynb`` and ``homework1.pdf``. \n",
    "\n",
    "The TA will return the corrected and annotated homework back to you via Git (please give `rythei` access to your repository)."
   ]
  },
  {
   "cell_type": "code",
   "execution_count": null,
   "metadata": {},
   "outputs": [],
   "source": []
  },
  {
   "cell_type": "code",
   "execution_count": 6,
   "metadata": {
    "ExecuteTime": {
     "end_time": "2019-01-22T19:57:47.188990Z",
     "start_time": "2019-01-22T19:57:46.107420Z"
    }
   },
   "outputs": [],
   "source": [
    "import mxnet as mx\n",
    "from mxnet import ndarray as nd"
   ]
  },
  {
   "cell_type": "markdown",
   "metadata": {},
   "source": [
    "## 1. Speedtest for vectorization\n",
    "\n",
    "Your goal is to measure the speed of linear algebra operations for different levels of vectorization. You need to use `wait_to_read()` on the output to ensure that the result is computed completely, since NDArray uses asynchronous computation. Please see http://beta.mxnet.io/api/ndarray/_autogen/mxnet.ndarray.NDArray.wait_to_read.html for details. \n",
    "\n",
    "1. Construct two matrices $A$ and $B$ with Gaussian random entries of size $4096 \\times 4096$. \n",
    "1. Compute $C = A B$ using matrix-matrix operations and report the time. \n",
    "1. Compute $C = A B$, treating $A$ as a matrix but computing the result for each column of $B$ one at a time. Report the time.\n",
    "1. Compute $C = A B$, treating $A$ and $B$ as collections of vectors. Report the time.\n",
    "1. Bonus question - what changes if you execute this on a GPU?"
   ]
  },
  {
   "cell_type": "code",
   "execution_count": 11,
   "metadata": {
    "slideshow": {
     "slide_type": "-"
    }
   },
   "outputs": [
    {
     "name": "stdout",
     "output_type": "stream",
     "text": [
      "CPU for Problem 2: 9.041412591934204\n"
     ]
    }
   ],
   "source": [
    "#problem 1\n",
    "A = nd.random.normal(shape = (4096,4096))\n",
    "B = nd.random.normal(shape = (4096,4096))\n",
    "#problem 2 using CPU\n",
    "import time\n",
    "tic_1 = time.time()\n",
    "C_1 = nd.dot(A, B).wait_to_read()\n",
    "print('CPU for Problem 2:',time.time() - tic_1)"
   ]
  },
  {
   "cell_type": "code",
   "execution_count": 16,
   "metadata": {},
   "outputs": [
    {
     "name": "stdout",
     "output_type": "stream",
     "text": [
      "GPU for Problem 2: 0.32813453674316406\n"
     ]
    }
   ],
   "source": [
    "#problem 2 using GPU\n",
    "A = nd.random.normal(shape = (4096,4096),ctx=mx.gpu())\n",
    "B = nd.random.normal(shape = (4096,4096),ctx=mx.gpu())\n",
    "import time\n",
    "tic_1 = time.time()\n",
    "C_1 = nd.dot(A, B).wait_to_read()\n",
    "print('GPU for Problem 2:',time.time() - tic_1)"
   ]
  },
  {
   "cell_type": "code",
   "execution_count": 14,
   "metadata": {},
   "outputs": [
    {
     "name": "stdout",
     "output_type": "stream",
     "text": [
      "CPU for Problem 3: 112.0281457901001\n"
     ]
    }
   ],
   "source": [
    "#problem 3 using CPU\n",
    "A = nd.random.normal(shape = (4096,4096))\n",
    "B = nd.random.normal(shape = (4096,4096))\n",
    "C_2 = nd.random.normal(shape = (4096,4096))\n",
    "tic_2 = time.time()\n",
    "for i in range(4096):\n",
    "    C_2[:,i] = nd.dot(A,B[:,i])\n",
    "C_2.wait_to_read()\n",
    "print('CPU for Problem 3:',time.time() - tic_2)"
   ]
  },
  {
   "cell_type": "code",
   "execution_count": 12,
   "metadata": {},
   "outputs": [
    {
     "name": "stdout",
     "output_type": "stream",
     "text": [
      "GPU for Problem 3: 21.440316200256348\n"
     ]
    }
   ],
   "source": [
    "#problem 3 using GPU\n",
    "A = nd.random.normal(shape = (4096,4096),ctx=mx.gpu())\n",
    "B = nd.random.normal(shape = (4096,4096),ctx=mx.gpu())\n",
    "C_2 = nd.random.normal(shape = (4096,4096),ctx=mx.gpu())\n",
    "tic_2 = time.time()\n",
    "for i in range(4096):\n",
    "    C_2[:,i] = nd.dot(A,B[:,i])\n",
    "C_2.wait_to_read()\n",
    "print('GPU for Problem 3:',time.time() - tic_2)"
   ]
  },
  {
   "cell_type": "code",
   "execution_count": 16,
   "metadata": {},
   "outputs": [
    {
     "name": "stdout",
     "output_type": "stream",
     "text": [
      "Problem 3: 8346.254306077957\n"
     ]
    }
   ],
   "source": [
    "#probem 4 using CPU\n",
    "A = nd.random.normal(shape = (4096,4096))\n",
    "B = nd.random.normal(shape = (4096,4096))\n",
    "C_3 = nd.random.normal(shape = (4096,4096))\n",
    "import time\n",
    "tic_3 = time.time()\n",
    "for i in range(4096):\n",
    "    for j in range(4096):\n",
    "        C_3[i,j] = nd.dot(A[:,i].T, B[:,j])\n",
    "C_3.wait_to_read()\n",
    "print('Problem 3:',time.time() - tic_3)"
   ]
  },
  {
   "cell_type": "code",
   "execution_count": null,
   "metadata": {},
   "outputs": [],
   "source": [
    "#probem 4 using GPU\n",
    "A = nd.random.normal(shape = (4096,4096),ctx=mx.gpu())\n",
    "B = nd.random.normal(shape = (4096,4096),ctx=mx.gpu())\n",
    "C_3 = nd.random.normal(shape = (4096,4096),ctx=mx.gpu())\n",
    "import time\n",
    "tic_3 = time.time()\n",
    "for i in range(4096):\n",
    "    for j in range(4096):\n",
    "        C_3[i,j] = nd.dot(A[:,i].T, B[:,j])\n",
    "C_3.wait_to_read()\n",
    "print('Problem 4:',time.time() - tic_3)"
   ]
  },
  {
   "cell_type": "markdown",
   "metadata": {},
   "source": [
    "## 2. Semidefinite Matrices\n",
    "\n",
    "Assume that $A \\in \\mathbb{R}^{m \\times n}$ is an arbitrary matrix and that $D \\in \\mathbb{R}^{n \\times n}$ is a diagonal matrix with nonnegative entries. \n",
    "\n",
    "1. Prove that $B = A D A^\\top$ is a positive semidefinite matrix. \n",
    "2. When would it be useful to work with $B$ and when is it better to use $A$ and $D$?"
   ]
  },
  {
   "cell_type": "markdown",
   "metadata": {
    "slideshow": {
     "slide_type": "-"
    }
   },
   "source": [
    "1. Prove the $B = A D A^\\top$ is symmetric:    \n",
    "as $ D $ is a diagonal matrix, the transpose of $ D $ is $ D $ itself.    \n",
    "$( A D A^\\top)^\\top = A D A^\\top$    \n",
    "Eigendecomposition for $ B $: $ Q \\Lambda Q^\\top $, where Q is diagonal matrix. Thus, $Q^\\top Q = I$     \n",
    "$ (Q^\\top A^\\top)D(QA) = \\Lambda $   \n",
    "$ \\Lambda = (QA)D(QA)^\\top $    \n",
    "As $Q$ is diagonal matrix and $A$ is an arbitrary matrix, $QA$ can be seen as an arbitrary matrix Y, linearly transformed from $A$ by $Q$.   \n",
    "Therefore, $ \\Lambda = Y^\\top DY $   \n",
    "$D$ is a diagonal matrix with nonnegative entries, i.e., a semidefinite matrix. Then the eigenvalue containing in the $\\Lambda$ is nonnegative as well according to the definition of semidefinite matrix(seen $Y$ as a collection of vector).   \n",
    "   \n",
    "2.When dealing with optimization and solving functions(like OLS), it would be better to use $A$ and $D$. If there is no use of the property of semidefinite matrices (like its eigenvalues are nonnegative), it would be useful to use $B$. "
   ]
  },
  {
   "cell_type": "markdown",
   "metadata": {},
   "source": [
    "## 3. MXNet on GPUs\n",
    "\n",
    "1. Install GPU drivers (if needed)\n",
    "1. Install MXNet on a GPU instance\n",
    "1. Display `!nvidia-smi`\n",
    "1. Create a $2 \\times 2$ matrix on the GPU and print it. See http://d2l.ai/chapter_deep-learning-computation/use-gpu.html for details."
   ]
  },
  {
   "cell_type": "code",
   "execution_count": 1,
   "metadata": {},
   "outputs": [],
   "source": [
    "#In windows, I have to navigate to C:\\Program Files\\NVIDIA Corporation\\NVSMI. I will include the !nvidia-smi in pdf."
   ]
  },
  {
   "cell_type": "code",
   "execution_count": 20,
   "metadata": {},
   "outputs": [
    {
     "name": "stdout",
     "output_type": "stream",
     "text": [
      "\n",
      "[[ 1.  1.]\n",
      " [ 1.  1.]]\n",
      "<NDArray 2x2 @gpu(0)>\n"
     ]
    }
   ],
   "source": [
    "x = nd.ones((2, 2), ctx=mx.gpu())\n",
    "print(x)"
   ]
  },
  {
   "cell_type": "markdown",
   "metadata": {},
   "source": [
    "## 4. NDArray and NumPy \n",
    "\n",
    "Your goal is to measure the speed penalty between MXNet Gluon and Python when converting data between both. We are going to do this as follows:\n",
    "\n",
    "1. Create two Gaussian random matrices $A, B$ of size $4096 \\times 4096$ in NDArray. \n",
    "1. Compute a vector $\\mathbf{c} \\in \\mathbb{R}^{4096}$ where $c_i = \\|A B_{i\\cdot}\\|^2$ where $\\mathbf{c}$ is a **NumPy** vector.\n",
    "\n",
    "To see the difference in speed due to Python perform the following two experiments and measure the time:\n",
    "\n",
    "1. Compute $\\|A B_{i\\cdot}\\|^2$ one at a time and assign its outcome to $\\mathbf{c}_i$ directly.\n",
    "1. Use an intermediate storage vector $\\mathbf{d}$ in NDArray for assignments and copy to NumPy at the end."
   ]
  },
  {
   "cell_type": "code",
   "execution_count": 31,
   "metadata": {},
   "outputs": [
    {
     "name": "stdout",
     "output_type": "stream",
     "text": [
      "Problem 1: 24.15609049797058\n",
      "<class 'numpy.ndarray'>\n"
     ]
    }
   ],
   "source": [
    "#problem 1 both using GPU\n",
    "#when using CPU, it takes 101s.\n",
    "A = nd.random.normal(shape = (4096,4096),ctx=mx.gpu())\n",
    "B = nd.random.normal(shape = (4096,4096),ctx=mx.gpu())\n",
    "import numpy as np\n",
    "c = nd.ones(4096,ctx=mx.gpu())\n",
    "tic_4 = time.time()\n",
    "for i in range(4096):\n",
    "    c[i] = nd.norm(nd.dot(A,B[:,i])).asscalar()**2\n",
    "c.wait_to_read()\n",
    "c = c.asnumpy()\n",
    "print('Problem 1:',time.time() - tic_4)\n",
    "print(type(c))"
   ]
  },
  {
   "cell_type": "code",
   "execution_count": 33,
   "metadata": {},
   "outputs": [
    {
     "name": "stdout",
     "output_type": "stream",
     "text": [
      "Problem 2: 21.59375023841858\n"
     ]
    }
   ],
   "source": [
    "#When using CPU, it takes 91s.\n",
    "d = nd.arange(4096,ctx=mx.gpu())\n",
    "c = np.ones(4096)\n",
    "tic_5 = time.time()\n",
    "for i in range(4096):\n",
    "    d[i] = nd.norm(nd.dot(A,B[:,i]))**2 \n",
    "d.wait_to_read()\n",
    "c = d.asnumpy()\n",
    "print('Problem 2:',time.time() - tic_5)\n",
    "#print(type(c))\n",
    "\n",
    "\n"
   ]
  },
  {
   "cell_type": "markdown",
   "metadata": {},
   "source": [
    "## 5. Memory efficient computation\n",
    "\n",
    "We want to compute $C \\leftarrow A \\cdot B + C$, where $A, B$ and $C$ are all matrices. Implement this in the most memory efficient manner. Pay attention to the following two things:\n",
    "\n",
    "1. Do not allocate new memory for the new value of $C$.\n",
    "1. Do not allocate new memory for intermediate results if possible."
   ]
  },
  {
   "cell_type": "code",
   "execution_count": 61,
   "metadata": {},
   "outputs": [
    {
     "data": {
      "text/plain": [
       "True"
      ]
     },
     "execution_count": 61,
     "metadata": {},
     "output_type": "execute_result"
    }
   ],
   "source": [
    "C = nd.dot(A,B)\n",
    "before = id(C)\n",
    "nd.elemwise_add(nd.dot(A,B), C, out = C)\n",
    "id(C) == before"
   ]
  },
  {
   "cell_type": "markdown",
   "metadata": {},
   "source": [
    "## 6. Broadcast Operations\n",
    "\n",
    "In order to perform polynomial fitting we want to compute a design matrix $A$ with \n",
    "\n",
    "$$A_{ij} = x_i^j$$\n",
    "\n",
    "Our goal is to implement this **without a single for loop** entirely using vectorization and broadcast. Here $1 \\leq j \\leq 20$ and $x = \\{-10, -9.9, \\ldots 10\\}$. Implement code that generates such a matrix."
   ]
  },
  {
   "cell_type": "code",
   "execution_count": 69,
   "metadata": {},
   "outputs": [
    {
     "name": "stdout",
     "output_type": "stream",
     "text": [
      "\n",
      "[[-1.0000000e+01  1.0000000e+02 -1.0000000e+03 ...  9.9999998e+17\n",
      "  -1.0000000e+19  1.0000000e+20]\n",
      " [-9.8999996e+00  9.8009995e+01 -9.7029889e+02 ...  8.3451318e+17\n",
      "  -8.2616803e+18  8.1790629e+19]\n",
      " [-9.8000002e+00  9.6040001e+01 -9.4119208e+02 ...  6.9513558e+17\n",
      "  -6.8123289e+18  6.6760824e+19]\n",
      " ...\n",
      " [ 9.7000008e+00  9.4090012e+01  9.1267322e+02 ...  5.7795210e+17\n",
      "   5.6061355e+18  5.4379519e+19]\n",
      " [ 9.8000011e+00  9.6040024e+01  9.4119232e+02 ...  6.9513681e+17\n",
      "   6.8123415e+18  6.6760952e+19]\n",
      " [ 9.8999996e+00  9.8009995e+01  9.7029889e+02 ...  8.3451318e+17\n",
      "   8.2616803e+18  8.1790629e+19]]\n",
      "<NDArray 200x20 @cpu(0)>\n"
     ]
    }
   ],
   "source": [
    "j = nd.arange(1,21).reshape(1,20)\n",
    "x = nd.arange(-10, 10, 0.1).reshape(200,1)\n",
    "A = nd.ones(shape=(200,20))\n",
    "A = x**j\n",
    "print(A)"
   ]
  },
  {
   "cell_type": "code",
   "execution_count": null,
   "metadata": {},
   "outputs": [],
   "source": []
  }
 ],
 "metadata": {
  "celltoolbar": "Slideshow",
  "kernelspec": {
   "display_name": "Python 3",
   "language": "python",
   "name": "python3"
  },
  "language_info": {
   "codemirror_mode": {
    "name": "ipython",
    "version": 3
   },
   "file_extension": ".py",
   "mimetype": "text/x-python",
   "name": "python",
   "nbconvert_exporter": "python",
   "pygments_lexer": "ipython3",
   "version": "3.7.1"
  }
 },
 "nbformat": 4,
 "nbformat_minor": 2
}
