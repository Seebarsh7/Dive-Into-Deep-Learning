{
 "cells": [
  {
   "cell_type": "markdown",
   "metadata": {},
   "source": [
    "# Homework 2 - Berkeley STAT 157\n",
    "\n",
    "Handout 1/29/2019, due 2/5/2019 by 4pm in Git by committing to your repository."
   ]
  },
  {
   "cell_type": "code",
   "execution_count": 3,
   "metadata": {
    "ExecuteTime": {
     "end_time": "2019-01-29T22:48:56.163323Z",
     "start_time": "2019-01-29T22:48:53.680455Z"
    }
   },
   "outputs": [],
   "source": [
    "from mxnet import nd, autograd, gluon\n",
    "import mxnet as mx\n",
    "from matplotlib import pyplot as plt\n",
    "import numpy as np\n",
    "import math"
   ]
  },
  {
   "cell_type": "markdown",
   "metadata": {
    "ExecuteTime": {
     "end_time": "2019-01-29T19:41:18.204791Z",
     "start_time": "2019-01-29T19:41:18.201091Z"
    }
   },
   "source": [
    "# 1. Multinomial Sampling\n",
    "\n",
    "Implement a sampler from a discrete distribution from scratch, mimicking the function `mxnet.ndarray.random.multinomial`. Its arguments should be a vector of probabilities $p$. You can assume that the probabilities are normalized, i.e. tha they sum up to $1$. Make the call signature as follows:\n",
    "\n",
    "```\n",
    "samples = sampler(probs, shape) \n",
    "\n",
    "probs   : An ndarray vector of size n of nonnegative numbers summing up to 1\n",
    "shape   : A list of dimensions for the output\n",
    "samples : Samples from probs with shape matching shape\n",
    "```\n",
    "\n",
    "Hints:\n",
    "\n",
    "1. Use `mxnet.ndarray.random.uniform` to get a sample from $U[0,1]$.\n",
    "1. You can simplify things for `probs` by computing the cumulative sum over `probs`."
   ]
  },
  {
   "cell_type": "code",
   "execution_count": 83,
   "metadata": {},
   "outputs": [
    {
     "name": "stdout",
     "output_type": "stream",
     "text": [
      "[[0.87146642 0.32727839 0.66201849 0.77542239 0.22504407 0.56995509\n",
      "  0.9011435  0.79369563 0.10498432 0.78199647]]\n",
      "[[2. 1. 1. 1. 1. 1. 2. 1. 0. 1.]]\n"
     ]
    }
   ],
   "source": [
    "tmp = np.random.uniform(size=(1,10))\n",
    "print(tmp)\n",
    "x = 1.0 * (tmp > 0.2) + 1.0 * (tmp > 0.3) + 1.0 * (tmp > 0.5)\n",
    "print(x)"
   ]
  },
  {
   "cell_type": "code",
   "execution_count": 115,
   "metadata": {
    "ExecuteTime": {
     "end_time": "2019-01-29T22:48:56.185124Z",
     "start_time": "2019-01-29T22:48:56.165645Z"
    }
   },
   "outputs": [
    {
     "data": {
      "text/plain": [
       "array([[1., 1., 2.],\n",
       "       [2., 2., 2.]])"
      ]
     },
     "execution_count": 115,
     "metadata": {},
     "output_type": "execute_result"
    }
   ],
   "source": [
    "def sampler(probs, shape):\n",
    "    s = 1\n",
    "    for j in shape:\n",
    "        s *= j\n",
    "        \n",
    "    tmp = np.random.uniform(size=(1,s))[0]\n",
    "    cumprob = np.cumsum(probs.asnumpy())\n",
    "    x = np.ones(shape = (len(cumprob), s))\n",
    "    for i in range(len(cumprob)):\n",
    "        x[i,:] *= (tmp > cumprob[i-1])\n",
    "    x = x.sum(axis = 0)\n",
    "    return x.reshape(shape)\n",
    "\n",
    "# a simple test\n",
    "sampler(nd.array([0.2, 0.3, 0.5]), (2,3))"
   ]
  },
  {
   "cell_type": "markdown",
   "metadata": {},
   "source": [
    "# 2. Central Limit Theorem\n",
    "\n",
    "Let's explore the Central Limit Theorem when applied to text processing. \n",
    "\n",
    "* Download [https://www.gutenberg.org/ebooks/84](https://www.gutenberg.org/files/84/84-0.txt) from Project Gutenberg \n",
    "* Remove punctuation, uppercase / lowercase, and split the text up into individual tokens (words).\n",
    "* For the words `a`, `and`, `the`, `i`, `is` compute their respective counts as the book progresses, i.e. \n",
    "    $$n_\\mathrm{the}[i] = \\sum_{j = 1}^i \\{w_j = \\mathrm{the}\\}$$\n",
    "* Plot the proportions $n_\\mathrm{word}[i] / i$ over the document in one plot.\n",
    "* Find an envelope of the shape $O(1/\\sqrt{i})$ for each of these five words. (Hint, check the last page of the [sampling notebook](http://courses.d2l.ai/berkeley-stat-157/slides/1_24/sampling.pdf))\n",
    "* Why can we **not** apply the Central Limit Theorem directly? \n",
    "* How would we have to change the text for it to apply? \n",
    "* Why does it still work quite well?"
   ]
  },
  {
   "cell_type": "code",
   "execution_count": 4,
   "metadata": {
    "ExecuteTime": {
     "end_time": "2019-01-29T22:48:56.200892Z",
     "start_time": "2019-01-29T22:48:56.188145Z"
    },
    "scrolled": true
   },
   "outputs": [
    {
     "name": "stdout",
     "output_type": "stream",
     "text": [
      "b\"\\xef\\xbb\\xbf\\r\\nProject Gutenberg's Frankenstein, by Mary Wollstonecraft (Godwin) Shelley\\r\\n\\r\\nThis eBook is for \"\n"
     ]
    }
   ],
   "source": [
    "filename = '84-0.txt'\n",
    "with open(filename) as f:\n",
    "    book = f.read()\n",
    "print(book[0:100])"
   ]
  },
  {
   "cell_type": "code",
   "execution_count": 64,
   "metadata": {},
   "outputs": [],
   "source": [
    "## Add your codes here\n",
    "import string\n",
    "import io\n",
    "class TextMining:\n",
    "    def __init__(self, \n",
    "                 text_file):\n",
    "        self.text_file = text_file\n",
    "        self.load_texts()\n",
    "        self.texts = self._join_texts(self._clean_texts())\n",
    "        \n",
    "    def load_texts(self):\n",
    "        # load text files into the memmory\n",
    "        with io.open(self.text_file, 'r', encoding='utf-8-sig') as rfile:\n",
    "            self.texts = rfile.readlines()\n",
    "        #print(self.texts)\n",
    "    \n",
    "    def _clean_strings(self, s):\n",
    "        \n",
    "        s = s.lower()\n",
    "        exclude = set(string.punctuation)\n",
    "        exclude.add('\\n')\n",
    "        exclude.add(\"'\")\n",
    "        s_ = ''.join(ch for ch in s if ch not in exclude)\n",
    "        #print(s_)\n",
    "        return s_\n",
    "        \n",
    "    def _clean_texts(self):\n",
    "        new_texts = []\n",
    "        for _text_ in self.texts:\n",
    "            new_texts.append(self._clean_strings(_text_))\n",
    "        #print(new_texts)\n",
    "        return new_texts    \n",
    "        \n",
    "    def _join_texts(self, t):\n",
    "        # join paragraphs into a big list\n",
    "        s = ''\n",
    "        for _t in t:\n",
    "            s += (' ' + _t)\n",
    "        return s[1:]\n",
    "    \n",
    "    def words(self):\n",
    "        words = self.texts.split(' ')\n",
    "        while '' in words:\n",
    "            words.remove('')\n",
    "        #print(count)\n",
    "        return words\n",
    "\n",
    "    def count(self, count):\n",
    "        key = ['a', 'and', 'the', 'i', 'is']\n",
    "        words = self.words()\n",
    "        for j in range(5):\n",
    "            for i in range(len(words)):\n",
    "                if(words[i] == key[j]):\n",
    "                    count[i,j] += 1.0\n",
    "                    #print(count[i,j])\n",
    "        return count"
   ]
  },
  {
   "cell_type": "code",
   "execution_count": 67,
   "metadata": {},
   "outputs": [],
   "source": [
    "#start counting\n",
    "text_obj = TextMining('84-0.txt')\n",
    "words = text_obj.words()\n",
    "size = len(words)\n",
    "x = nd.zeros((size,5)).asnumpy()\n",
    "#print(x)\n",
    "X = text_obj.count(x)"
   ]
  },
  {
   "cell_type": "code",
   "execution_count": 68,
   "metadata": {},
   "outputs": [
    {
     "name": "stdout",
     "output_type": "stream",
     "text": [
      "[[   0.    0.    0.    0.    0.]\n",
      " [   0.    0.    0.    0.    0.]\n",
      " [   0.    0.    0.    0.    0.]\n",
      " ...\n",
      " [1439. 3028. 4329. 2766.  330.]\n",
      " [1439. 3028. 4329. 2766.  330.]\n",
      " [1439. 3028. 4329. 2766.  330.]]\n"
     ]
    }
   ],
   "source": [
    "z = np.cumsum(X,axis=0)\n",
    "print(z)"
   ]
  },
  {
   "cell_type": "code",
   "execution_count": 81,
   "metadata": {},
   "outputs": [
    {
     "data": {
      "image/png": "[encoded data removed]",
      "text/plain": [
       "<Figure size 720x360 with 1 Axes>"
      ]
     },
     "metadata": {
      "needs_background": "light"
     },
     "output_type": "display_data"
    }
   ],
   "source": [
    "y = np.arange(1,size+1).reshape(size,1)\n",
    "z = np.cumsum(x,axis=0) / y\n",
    "key = ['a', 'and', 'the', 'i', 'is']\n",
    "plt.figure(figsize=(10,5))\n",
    "for i in range(5):\n",
    "    plt.semilogx(y,z[:,i],label = key[i])\n",
    "    mean = np.mean(z[:,i])\n",
    "    variance = np.var(z[:,i])\n",
    "    plt.semilogx(y,(variance**0.5) * np.power(y,-0.5) + mean,'grey')\n",
    "    plt.semilogx(y,-(variance**0.5) * np.power(y,-0.5) + mean,'grey')\n",
    "plt.ylabel('Probability') #name the x\n",
    "plt.legend(loc='best')\n",
    "plt.show()\n"
   ]
  },
  {
   "cell_type": "markdown",
   "metadata": {},
   "source": [
    "* Why can't we apply CLT directly?   \n",
    "Answer: The relationship between words and words could not be independent.\n",
    "* How would we have to change the text for it to apply?    \n",
    "Arrange the words in text in a random order.\n",
    "* Why does it still work quite well?    \n",
    "Because it has a great number of words, which seems eliminate the effect of relevance."
   ]
  },
  {
   "cell_type": "markdown",
   "metadata": {},
   "source": [
    "## 3. Denominator-layout notation\n",
    "\n",
    "We used the numerator-layout notation for matrix calculus in class, now let's examine the denominator-layout notation.\n",
    "\n",
    "Given $x, y\\in\\mathbb R$, $\\mathbf x\\in\\mathbb R^n$ and $\\mathbf y \\in \\mathbb R^m$, we have\n",
    "\n",
    "$$\n",
    "\\frac{\\partial y}{\\partial \\mathbf{x}}=\\begin{bmatrix}\n",
    "\\frac{\\partial y}{\\partial x_1}\\\\\n",
    "\\frac{\\partial y}{\\partial x_2}\\\\\n",
    "\\vdots\\\\\n",
    "\\frac{\\partial y}{\\partial x_n}\n",
    "\\end{bmatrix},\\quad \n",
    "\\frac{\\partial \\mathbf y}{\\partial {x}}=\\begin{bmatrix}\n",
    "\\frac{\\partial y_1}{\\partial x}, \n",
    "\\frac{\\partial y_2}{\\partial x}, \n",
    "\\ldots,\n",
    "\\frac{\\partial y_m}{\\partial x}\n",
    "\\end{bmatrix}\n",
    "$$\n",
    "\n",
    "and \n",
    "\n",
    "$$\n",
    "\\frac{\\partial \\mathbf y}{\\partial \\mathbf{x}}\n",
    "=\\begin{bmatrix}\n",
    "\\frac{\\partial \\mathbf y}{\\partial {x_1}}\\\\\n",
    "\\frac{\\partial \\mathbf y}{\\partial {x_2}}\\\\\n",
    "\\vdots\\\\\n",
    "\\frac{\\partial \\mathbf y}{\\partial {x_3}}\\\\\n",
    "\\end{bmatrix}\n",
    "=\\begin{bmatrix}\n",
    "\\frac{\\partial y_1}{\\partial x_1}, \n",
    "\\frac{\\partial y_2}{\\partial x_1},\n",
    "\\ldots,\n",
    "\\frac{\\partial y_m}{\\partial x_1}\n",
    "\\\\ \n",
    "\\frac{\\partial y_1}{\\partial x_2},\n",
    "\\frac{\\partial y_2}{\\partial x_2},\n",
    "\\ldots,\n",
    "\\frac{\\partial y_m}{\\partial x_2}\\\\ \n",
    "\\vdots\\\\\n",
    "\\frac{\\partial y_1}{\\partial x_n},\n",
    "\\frac{\\partial y_2}{\\partial x_n},\n",
    "\\ldots,\n",
    "\\frac{\\partial y_m}{\\partial x_n}\n",
    "\\end{bmatrix}\n",
    "$$\n",
    "\n",
    "Questions: \n",
    "\n",
    "1. Assume $\\mathbf  y = f(\\mathbf u)$ and $\\mathbf u = g(\\mathbf x)$, write down the chain rule for $\\frac {\\partial\\mathbf  y}{\\partial\\mathbf x}$\n",
    "2. Given $\\mathbf X \\in \\mathbb R^{m\\times n},\\ \\mathbf w \\in \\mathbb R^n, \\ \\mathbf y \\in \\mathbb R^m$, assume $z = \\| \\mathbf X \\mathbf w - \\mathbf y\\|^2$, compute $\\frac{\\partial z}{\\partial\\mathbf w}$."
   ]
  },
  {
   "cell_type": "markdown",
   "metadata": {},
   "source": [
    "1. $\\frac{\\partial \\mathbf{y}}{\\partial \\mathbf{x}} = \\frac{\\partial \\mathbf{y}}{\\partial \\mathbf{u}}\\frac{\\partial \\mathbf{u}}{\\partial \\mathbf{x}}$\n",
    "\n",
    "\n",
    "2. First we can decompose:\n",
    "\n",
    " $\\mathbf{a} = \\mathbf{X}\\mathbf{w}$\n",
    " \n",
    " $\\mathbf{b} = \\mathbf{a}- \\mathbf{y}$\n",
    " \n",
    " $z = \\|\\mathbf{b}\\|^2$\n",
    " \n",
    " By using the chain rule, we get:\n",
    " \n",
    " $\\frac{\\partial z}{\\partial \\mathbf{w}} = \\frac{\\partial z}{\\partial \\mathbf{b}}\\frac{\\partial \\mathbf{b}}{\\partial \\mathbf{a}}\\frac{\\partial \\mathbf{a}}{\\partial \\mathbf{w}} \n",
    " = \\frac{\\partial \\|\\mathbf{b}\\|^2}{\\partial \\mathbf{b}}\\frac{\\partial \\mathbf{a} -\\mathbf{y}}{\\partial \\mathbf{a}}\\frac{\\partial \\mathbf{X}\\mathbf{w}}{\\partial \\mathbf{w}}\n",
    " = 2\\mathbf{b}^\\top \\times \\mathbf{I} \\times \\mathbf{X} = 2(\\mathbf{X}\\mathbf{w}-\\mathbf{y})^\\top \\mathbf{X}^\\top$\n"
   ]
  },
  {
   "cell_type": "markdown",
   "metadata": {},
   "source": [
    "## 4. Numerical Precision\n",
    "\n",
    "Given scalars `x` and `y`, implement the following `log_exp` function such that it returns \n",
    "$$-\\log\\left(\\frac{e^x}{e^x+e^y}\\right)$$."
   ]
  },
  {
   "cell_type": "code",
   "execution_count": 14,
   "metadata": {
    "ExecuteTime": {
     "end_time": "2019-01-29T22:48:56.206890Z",
     "start_time": "2019-01-29T22:48:56.202996Z"
    }
   },
   "outputs": [],
   "source": [
    "def log_exp(x, y):\n",
    "    ## add your solution here\n",
    "    return (-1)*nd.log(nd.exp(x)/(nd.exp(x)+ nd.exp(y)))"
   ]
  },
  {
   "cell_type": "markdown",
   "metadata": {},
   "source": [
    "Test your codes with normal inputs:"
   ]
  },
  {
   "cell_type": "code",
   "execution_count": 15,
   "metadata": {
    "ExecuteTime": {
     "end_time": "2019-01-29T22:48:56.215579Z",
     "start_time": "2019-01-29T22:48:56.209659Z"
    }
   },
   "outputs": [
    {
     "data": {
      "text/plain": [
       "\n",
       "[1.3132617]\n",
       "<NDArray 1 @cpu(0)>"
      ]
     },
     "execution_count": 15,
     "metadata": {},
     "output_type": "execute_result"
    }
   ],
   "source": [
    "x, y = nd.array([2]), nd.array([3])\n",
    "z = log_exp(x, y)\n",
    "z"
   ]
  },
  {
   "cell_type": "markdown",
   "metadata": {},
   "source": [
    "Now implement a function to compute $\\partial z/\\partial x$ and $\\partial z/\\partial y$ with `autograd`"
   ]
  },
  {
   "cell_type": "code",
   "execution_count": 16,
   "metadata": {
    "ExecuteTime": {
     "end_time": "2019-01-29T22:48:56.223303Z",
     "start_time": "2019-01-29T22:48:56.218056Z"
    }
   },
   "outputs": [],
   "source": [
    "def grad(forward_func, x, y): \n",
    "    ## Add your codes here\n",
    "    x.attach_grad()\n",
    "    y.attach_grad()\n",
    "    with autograd.record():\n",
    "        z = forward_func(x,y)\n",
    "    z.backward()\n",
    "    print('x.grad =', x.grad)\n",
    "    print('y.grad =', y.grad)"
   ]
  },
  {
   "cell_type": "markdown",
   "metadata": {},
   "source": [
    "Test your codes, it should print the results nicely. "
   ]
  },
  {
   "cell_type": "code",
   "execution_count": 17,
   "metadata": {
    "ExecuteTime": {
     "end_time": "2019-01-29T22:48:56.267165Z",
     "start_time": "2019-01-29T22:48:56.227035Z"
    }
   },
   "outputs": [
    {
     "name": "stdout",
     "output_type": "stream",
     "text": [
      "x.grad = \n",
      "[-0.7310586]\n",
      "<NDArray 1 @cpu(0)>\n",
      "y.grad = \n",
      "[0.7310586]\n",
      "<NDArray 1 @cpu(0)>\n"
     ]
    }
   ],
   "source": [
    "grad(log_exp, x, y)"
   ]
  },
  {
   "cell_type": "markdown",
   "metadata": {},
   "source": [
    "But now let's try some \"hard\" inputs"
   ]
  },
  {
   "cell_type": "code",
   "execution_count": 22,
   "metadata": {
    "ExecuteTime": {
     "end_time": "2019-01-29T22:48:56.285842Z",
     "start_time": "2019-01-29T22:48:56.274079Z"
    }
   },
   "outputs": [
    {
     "name": "stdout",
     "output_type": "stream",
     "text": [
      "x.grad = \n",
      "[nan]\n",
      "<NDArray 1 @cpu(0)>\n",
      "y.grad = \n",
      "[nan]\n",
      "<NDArray 1 @cpu(0)>\n"
     ]
    }
   ],
   "source": [
    "x, y = nd.array([50]), nd.array([100])\n",
    "grad(log_exp, x, y)"
   ]
  },
  {
   "cell_type": "markdown",
   "metadata": {},
   "source": [
    "Does your code return correct results? If not, try to understand the reason. (Hint, evaluate `exp(100)`). Now develop a new function `stable_log_exp` that is identical to `log_exp` in math, but returns a more numerical stable result."
   ]
  },
  {
   "cell_type": "markdown",
   "metadata": {},
   "source": [
    "The reason: Overflow."
   ]
  },
  {
   "cell_type": "code",
   "execution_count": 24,
   "metadata": {
    "ExecuteTime": {
     "end_time": "2019-01-29T22:48:56.305595Z",
     "start_time": "2019-01-29T22:48:56.293399Z"
    },
    "scrolled": false
   },
   "outputs": [
    {
     "name": "stdout",
     "output_type": "stream",
     "text": [
      "\n",
      "[-50.]\n",
      "<NDArray 1 @cpu(0)> \n",
      "[0.]\n",
      "<NDArray 1 @cpu(0)>\n",
      "x.grad = \n",
      "[-1.]\n",
      "<NDArray 1 @cpu(0)>\n",
      "y.grad = \n",
      "[1.]\n",
      "<NDArray 1 @cpu(0)>\n"
     ]
    }
   ],
   "source": [
    "x, y = nd.array([50]), nd.array([100])\n",
    "def stable_log_exp(x, y):\n",
    "    ## Add your codes here\n",
    "    if x < y:\n",
    "        max = y\n",
    "    else:\n",
    "        max = x\n",
    "\n",
    "    ex = x - max\n",
    "    ey = y - max\n",
    "    return (-1)* nd.log(nd.exp(ex)/(nd.exp(ex)+ nd.exp(ey)))\n",
    "\n",
    "grad(stable_log_exp, x, y)"
   ]
  },
  {
   "cell_type": "code",
   "execution_count": null,
   "metadata": {
    "collapsed": true
   },
   "outputs": [],
   "source": []
  }
 ],
 "metadata": {
  "anaconda-cloud": {},
  "kernelspec": {
   "display_name": "Python 3",
   "language": "python",
   "name": "python3"
  },
  "language_info": {
   "codemirror_mode": {
    "name": "ipython",
    "version": 3
   },
   "file_extension": ".py",
   "mimetype": "text/x-python",
   "name": "python",
   "nbconvert_exporter": "python",
   "pygments_lexer": "ipython3",
   "version": "3.7.1"
  }
 },
 "nbformat": 4,
 "nbformat_minor": 2
}
